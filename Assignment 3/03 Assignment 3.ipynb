{
 "cells": [
  {
   "cell_type": "markdown",
   "metadata": {
    "id": "h4xvH_KV8v4S"
   },
   "source": [
    "# Assignment \\#3: Importing Data (Part 2)\n",
    "In this Assignment you will be practising alternative ways of sourcing data.\n",
    "\n",
    "## Web scraping\n",
    "For this Assignment you are tasked with scraping the following website: 'premierleague.com'\n",
    "\n",
    "On this website you are looking for the results of football matches that took place in August 2019.\n",
    "\n",
    "The results of these matches can be found by going to the url 'premierleague.com/match/\\[match_ID\\]' where match_ID will start at 46605 up to 46644. \n",
    "\n",
    "## Examing the code below.\n",
    "The cell below contains limited capability of scraping the website for the results of a match and requires further functionality.\n",
    "\n",
    "The code retrieves the html page containing the match results.\n",
    "Finish the code to retrieve the following <div\\> in which both team names as well as the score line for a match can be found:\n",
    "\n",
    "Find and print the contents of <div class=\"teamsContainer\"\\></div\\>\n"
   ]
  },
  {
   "cell_type": "code",
   "execution_count": 5,
   "metadata": {
    "id": "TVjC_6i18v4T",
    "tags": []
   },
   "outputs": [
    {
     "name": "stdout",
     "output_type": "stream",
     "text": [
      "200\n"
     ]
    }
   ],
   "source": [
    "from bs4 import BeautifulSoup\n",
    "import requests\n",
    "import pandas as pd\n",
    "\n",
    "url = 'https://premierleague.com/match/46605'\n",
    "\n",
    "page = requests.get(url)\n",
    "\n",
    "soup = BeautifulSoup(page.content, 'html.parser') #Obtain Content from page via beuitiful soup \n",
    "\n",
    "# insert code here\n",
    "print(page.status_code)\n",
    "src = page.content"
   ]
  },
  {
   "cell_type": "code",
   "execution_count": 45,
   "metadata": {},
   "outputs": [
    {
     "name": "stdout",
     "output_type": "stream",
     "text": [
      "[<div class=\"score fullTime\">4<span>-</span>1</div>]\n"
     ]
    }
   ],
   "source": [
    "links = soup.find_all('div',class_=\"score fullTime\")\n",
    "\n",
    "print(links)"
   ]
  },
  {
   "cell_type": "code",
   "execution_count": 39,
   "metadata": {},
   "outputs": [
    {
     "name": "stdout",
     "output_type": "stream",
     "text": [
      "[]\n"
     ]
    }
   ],
   "source": [
    "scorelines = soup.find_all('div',class_=\"score fullTime\")\n",
    "\n",
    "for score in scorelines:\n",
    "        team =  score('a',class_=\"long\")\n",
    "\n",
    "print(team)"
   ]
  },
  {
   "cell_type": "code",
   "execution_count": 62,
   "metadata": {},
   "outputs": [],
   "source": [
    "scores = []"
   ]
  },
  {
   "cell_type": "code",
   "execution_count": 58,
   "metadata": {},
   "outputs": [],
   "source": [
    "soccer_score = soup.find_all('div',class_=\"score fullTime\")\n",
    "\n",
    "for score in soccer_score:\n",
    "        scores.append(scoreline)\n",
    "        \n",
    "        \n",
    "        "
   ]
  },
  {
   "cell_type": "code",
   "execution_count": 50,
   "metadata": {},
   "outputs": [
    {
     "name": "stdout",
     "output_type": "stream",
     "text": [
      "[]\n"
     ]
    }
   ],
   "source": [
    "teams = soup.find_all('a',class_=\"long\")\n",
    "print(teams)"
   ]
  },
  {
   "cell_type": "code",
   "execution_count": 65,
   "metadata": {},
   "outputs": [
    {
     "name": "stdout",
     "output_type": "stream",
     "text": [
      "['4-1']\n"
     ]
    }
   ],
   "source": [
    "print(scores)"
   ]
  },
  {
   "cell_type": "code",
   "execution_count": 76,
   "metadata": {},
   "outputs": [
    {
     "name": "stdout",
     "output_type": "stream",
     "text": [
      "4-1\n"
     ]
    }
   ],
   "source": [
    "soccer_score = soup.find('div',class_=\"score fullTime\")\n",
    "scores.append(soccer_score.text)\n",
    "print(soccer_score.text) "
   ]
  },
  {
   "cell_type": "code",
   "execution_count": 55,
   "metadata": {},
   "outputs": [
    {
     "ename": "AttributeError",
     "evalue": "'NoneType' object has no attribute 'text'",
     "output_type": "error",
     "traceback": [
      "\u001b[0;31m---------------------------------------------------------------------------\u001b[0m",
      "\u001b[0;31mAttributeError\u001b[0m                            Traceback (most recent call last)",
      "\u001b[0;32m/var/folders/tf/tsz9f2110cng0r55pjl5pd240000gn/T/ipykernel_10033/1265856102.py\u001b[0m in \u001b[0;36m<module>\u001b[0;34m\u001b[0m\n\u001b[1;32m      1\u001b[0m \u001b[0msoccer_score\u001b[0m \u001b[0;34m=\u001b[0m \u001b[0msoup\u001b[0m\u001b[0;34m.\u001b[0m\u001b[0mfind_all\u001b[0m\u001b[0;34m(\u001b[0m\u001b[0;34m'div'\u001b[0m\u001b[0;34m,\u001b[0m\u001b[0mclass_\u001b[0m\u001b[0;34m=\u001b[0m\u001b[0;34m\"score fullTime\"\u001b[0m\u001b[0;34m)\u001b[0m\u001b[0;34m\u001b[0m\u001b[0;34m\u001b[0m\u001b[0m\n\u001b[0;32m----> 2\u001b[0;31m \u001b[0mprint\u001b[0m\u001b[0;34m(\u001b[0m\u001b[0mscores\u001b[0m\u001b[0;34m[\u001b[0m\u001b[0;36m0\u001b[0m\u001b[0;34m]\u001b[0m\u001b[0;34m.\u001b[0m\u001b[0mtext\u001b[0m\u001b[0;34m)\u001b[0m\u001b[0;34m\u001b[0m\u001b[0;34m\u001b[0m\u001b[0m\n\u001b[0m\u001b[1;32m      3\u001b[0m \u001b[0msoccer_score\u001b[0m \u001b[0;34m=\u001b[0m \u001b[0msoup\u001b[0m\u001b[0;34m.\u001b[0m\u001b[0mfind\u001b[0m\u001b[0;34m(\u001b[0m\u001b[0;34m'div'\u001b[0m\u001b[0;34m,\u001b[0m\u001b[0mclass_\u001b[0m\u001b[0;34m=\u001b[0m\u001b[0;34m\"score fullTime\"\u001b[0m\u001b[0;34m)\u001b[0m\u001b[0;34m\u001b[0m\u001b[0;34m\u001b[0m\u001b[0m\n\u001b[1;32m      4\u001b[0m \u001b[0mprint\u001b[0m\u001b[0;34m(\u001b[0m\u001b[0msoccer_score\u001b[0m\u001b[0;34m.\u001b[0m\u001b[0mtext\u001b[0m\u001b[0;34m)\u001b[0m\u001b[0;34m\u001b[0m\u001b[0;34m\u001b[0m\u001b[0m\n",
      "\u001b[0;31mAttributeError\u001b[0m: 'NoneType' object has no attribute 'text'"
     ]
    }
   ],
   "source": [
    "soccer_score = soup.find_all('div',class_=\"score fullTime\")\n",
    "print(scores[0].text)\n",
    "soccer_score = soup.find('div',class_=\"score fullTime\")\n",
    "print(soccer_score.text) "
   ]
  },
  {
   "cell_type": "code",
   "execution_count": 78,
   "metadata": {},
   "outputs": [],
   "source": [
    "multi_score = []"
   ]
  },
  {
   "cell_type": "code",
   "execution_count": 83,
   "metadata": {},
   "outputs": [],
   "source": [
    "website = [\"46605\"]"
   ]
  },
  {
   "cell_type": "code",
   "execution_count": 79,
   "metadata": {},
   "outputs": [],
   "source": [
    "soccer_score = soup.find('div',class_=\"score fullTime\")\n",
    "multi_score.append(soccer_score.text)\n",
    "        \n",
    "        \n",
    "        "
   ]
  },
  {
   "cell_type": "code",
   "execution_count": 80,
   "metadata": {},
   "outputs": [
    {
     "name": "stdout",
     "output_type": "stream",
     "text": [
      "['4-1']\n"
     ]
    }
   ],
   "source": [
    "print(multi_score)"
   ]
  },
  {
   "cell_type": "code",
   "execution_count": 86,
   "metadata": {},
   "outputs": [
    {
     "ename": "TypeError",
     "evalue": "can only concatenate str (not \"tuple\") to str",
     "output_type": "error",
     "traceback": [
      "\u001b[0;31m---------------------------------------------------------------------------\u001b[0m",
      "\u001b[0;31mTypeError\u001b[0m                                 Traceback (most recent call last)",
      "\u001b[0;32m/var/folders/tf/tsz9f2110cng0r55pjl5pd240000gn/T/ipykernel_10033/2595638821.py\u001b[0m in \u001b[0;36m<module>\u001b[0;34m\u001b[0m\n\u001b[0;32m----> 1\u001b[0;31m \u001b[0murl\u001b[0m \u001b[0;34m=\u001b[0m \u001b[0;34m'https://premierleague.com/match/'\u001b[0m\u001b[0;34m+\u001b[0m \u001b[0;34m(\u001b[0m\u001b[0mwebsite\u001b[0m\u001b[0;34m)\u001b[0m\u001b[0;34m\u001b[0m\u001b[0;34m\u001b[0m\u001b[0m\n\u001b[0m\u001b[1;32m      2\u001b[0m \u001b[0;34m\u001b[0m\u001b[0m\n\u001b[1;32m      3\u001b[0m \u001b[0mpage\u001b[0m \u001b[0;34m=\u001b[0m \u001b[0mrequests\u001b[0m\u001b[0;34m.\u001b[0m\u001b[0mget\u001b[0m\u001b[0;34m(\u001b[0m\u001b[0murl\u001b[0m\u001b[0;34m)\u001b[0m\u001b[0;34m\u001b[0m\u001b[0;34m\u001b[0m\u001b[0m\n\u001b[1;32m      4\u001b[0m \u001b[0;34m\u001b[0m\u001b[0m\n\u001b[1;32m      5\u001b[0m \u001b[0msoup\u001b[0m \u001b[0;34m=\u001b[0m \u001b[0mBeautifulSoup\u001b[0m\u001b[0;34m(\u001b[0m\u001b[0mpage\u001b[0m\u001b[0;34m.\u001b[0m\u001b[0mcontent\u001b[0m\u001b[0;34m,\u001b[0m \u001b[0;34m'html.parser'\u001b[0m\u001b[0;34m)\u001b[0m \u001b[0;31m#Obtain Content from page via beuitiful soup\u001b[0m\u001b[0;34m\u001b[0m\u001b[0;34m\u001b[0m\u001b[0m\n",
      "\u001b[0;31mTypeError\u001b[0m: can only concatenate str (not \"tuple\") to str"
     ]
    }
   ],
   "source": [
    "url = 'https://premierleague.com/match/'+ (website)\n",
    "\n",
    "page = requests.get(url)\n",
    "\n",
    "soup = BeautifulSoup(page.content, 'html.parser') #Obtain Content from page via beuitiful soup \n",
    "\n",
    "# insert code here\n",
    "print(page.status_code)\n",
    "src = page.content"
   ]
  },
  {
   "cell_type": "code",
   "execution_count": 102,
   "metadata": {},
   "outputs": [],
   "source": [
    "url = 'https://premierleague.com/match/{0}'\n",
    "\n",
    "all_urls = ('\\n'.join(url.format(year) for year in range(46605, 46644)))"
   ]
  },
  {
   "cell_type": "code",
   "execution_count": 103,
   "metadata": {},
   "outputs": [],
   "source": [
    "all_scores = []"
   ]
  },
  {
   "cell_type": "code",
   "execution_count": 109,
   "metadata": {},
   "outputs": [],
   "source": [
    "url_tpl = 'https://premierleague.com/match/{0}'\n",
    "\n",
    "# use list coprehension to get all the urls\n",
    "all_urls = [url_tpl.format(year) for year in range(46605, 46644)]\n",
    "\n",
    "for urlt in all_urls:\n",
    "    response = requests.get(urlt)\n",
    "    soup = BeautifulSoup(response.content, 'html.parser')\n",
    "    soccer_scores = soup.find('div',class_=\"score fullTime\")\n",
    "    all_scores.append(soccer_score.text)"
   ]
  },
  {
   "cell_type": "code",
   "execution_count": 110,
   "metadata": {},
   "outputs": [
    {
     "name": "stdout",
     "output_type": "stream",
     "text": [
      "['4-1', '4-1', '4-1', '4-1', '4-1', '4-1', '4-1', '4-1', '4-1', '4-1', '4-1', '4-1', '4-1', '4-1', '4-1', '4-1', '4-1', '4-1', '4-1', '4-1', '4-1', '4-1', '4-1', '4-1', '4-1', '4-1', '4-1', '4-1', '4-1', '4-1', '4-1', '4-1', '4-1', '4-1', '4-1', '4-1', '4-1', '4-1', '4-1', '4-1', '4-1', '4-1', '4-1', '4-1', '4-1', '4-1', '4-1', '4-1', '4-1', '4-1', '4-1', '4-1', '4-1', '4-1', '4-1']\n"
     ]
    }
   ],
   "source": [
    "print(all_scores)"
   ]
  },
  {
   "cell_type": "code",
   "execution_count": null,
   "metadata": {},
   "outputs": [],
   "source": []
  },
  {
   "cell_type": "markdown",
   "metadata": {
    "id": "D8ZJumM38v4U"
   },
   "source": [
    "## Write code to clean the html code stored in 'teamsContainer' to output the team names and scoreline of the given match."
   ]
  },
  {
   "cell_type": "code",
   "execution_count": null,
   "metadata": {
    "id": "gq75-ouR8v4U"
   },
   "outputs": [],
   "source": [
    "# write code here"
   ]
  },
  {
   "cell_type": "markdown",
   "metadata": {
    "id": "hrCjU5L_8v4U"
   },
   "source": [
    "## Now we want to retrieve the team names as well of the scoreline for all the matches in August (match ID: 46605 to 46643).\n",
    "Save the names of the home team, away team, the number of goals scored by the home team and the number of goals scored by the away team in a dataframe.\n",
    "\n",
    "Afterwards print out the dataframe.\n",
    "\n",
    "Note: If correctly implemented, it should take up to a 3 minutes to scrape these results."
   ]
  },
  {
   "cell_type": "code",
   "execution_count": null,
   "metadata": {
    "id": "nlkSA6oo8v4U"
   },
   "outputs": [],
   "source": [
    "# write code here\n",
    "\n"
   ]
  },
  {
   "cell_type": "markdown",
   "metadata": {
    "id": "OQh0avFo8v4V"
   },
   "source": [
    "## Print a list of all unique teams."
   ]
  },
  {
   "cell_type": "code",
   "execution_count": null,
   "metadata": {
    "id": "8udNvM4V8v4V"
   },
   "outputs": [],
   "source": [
    "# write code here"
   ]
  },
  {
   "cell_type": "markdown",
   "metadata": {
    "id": "ncIr4G7n8v4W"
   },
   "source": [
    "## Using the scores of each match, compute the current standings.\n",
    "Use the following rules to calculate the points for a given team:\n",
    "\n",
    "For a win, award a team 3, points.\n",
    "\n",
    "A draw earns both teams 1 point.\n",
    "\n",
    "No points are earned for a loss.\n",
    "\n",
    "### Print the resulting dataframe ordered by total points.\n",
    "Your dataframe should have the following columns: Team Name, Total points.\n"
   ]
  },
  {
   "cell_type": "code",
   "execution_count": null,
   "metadata": {
    "id": "AEQ09VKX8v4W"
   },
   "outputs": [],
   "source": [
    "# write code here"
   ]
  }
 ],
 "metadata": {
  "colab": {
   "name": "03 Assignment 3.ipynb",
   "provenance": []
  },
  "kernelspec": {
   "display_name": "Python 3 (ipykernel)",
   "language": "python",
   "name": "python3"
  },
  "language_info": {
   "codemirror_mode": {
    "name": "ipython",
    "version": 3
   },
   "file_extension": ".py",
   "mimetype": "text/x-python",
   "name": "python",
   "nbconvert_exporter": "python",
   "pygments_lexer": "ipython3",
   "version": "3.9.7"
  }
 },
 "nbformat": 4,
 "nbformat_minor": 1
}
