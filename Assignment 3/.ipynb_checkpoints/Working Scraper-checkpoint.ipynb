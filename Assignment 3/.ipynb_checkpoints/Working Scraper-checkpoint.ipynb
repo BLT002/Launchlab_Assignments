{
 "cells": [
  {
   "cell_type": "code",
   "execution_count": 1,
   "id": "626b7267",
   "metadata": {},
   "outputs": [],
   "source": [
    "from bs4 import BeautifulSoup\n",
    "import requests\n",
    "import pandas as pd\n",
    "\n",
    "url = 'https://premierleague.com/match/46605'\n",
    "\n",
    "page = requests.get(url)\n",
    "\n",
    "soup = BeautifulSoup(page.content, 'html.parser') #Obtain Content from page via beuitiful soup"
   ]
  },
  {
   "cell_type": "code",
   "execution_count": 2,
   "id": "90e59118",
   "metadata": {},
   "outputs": [],
   "source": [
    "all_scores = []"
   ]
  },
  {
   "cell_type": "code",
   "execution_count": 4,
   "id": "f66dfa9a",
   "metadata": {},
   "outputs": [],
   "source": [
    "og_url = 'https://premierleague.com/match/{0}'\n",
    "\n",
    "# use list coprehension to get all the urls\n",
    "all_urls = [og_url.format(match) for match in range(46605, 46644)]\n",
    "\n",
    "for url in all_urls:\n",
    "    response = requests.get(url)\n",
    "    soup = BeautifulSoup(response.content, 'html.parser')\n",
    "    soccer_score = soup.find('div',class_=\"score fullTime\")\n",
    "    all_scores.append(soccer_score.text)"
   ]
  },
  {
   "cell_type": "code",
   "execution_count": 5,
   "id": "23ab3418",
   "metadata": {},
   "outputs": [
    {
     "name": "stdout",
     "output_type": "stream",
     "text": [
      "['4-1', '1-1', '3-0', '0-0', '0-0', '3-1', '0-3', '0-5', '4-0', '0-1', '2-1', '1-2', '1-1', '1-1', '1-0', '2-2', '3-1', '1-0', '1-2', '1-1', '2-0', '1-3', '0-2', '3-1', '1-2', '2-3', '1-2', '0-1', '1-3', '1-1', '2-2', '0-3', '2-2', '1-0', '3-2', '3-1', '4-0', '1-1', '1-1']\n"
     ]
    }
   ],
   "source": [
    "print(all_scores)"
   ]
  },
  {
   "cell_type": "code",
   "execution_count": 36,
   "id": "b65081c0",
   "metadata": {},
   "outputs": [],
   "source": [
    "home_team = []"
   ]
  },
  {
   "cell_type": "code",
   "execution_count": 39,
   "id": "a33fab39",
   "metadata": {},
   "outputs": [],
   "source": [
    "og_url = 'https://premierleague.com/match/{0}'\n",
    "\n",
    "# use list coprehension to get all the urls\n",
    "all_urls = [og_url.format(match) for match in range(46605, 46644)]\n",
    "\n",
    "for url in all_urls:\n",
    "    response = requests.get(url)\n",
    "    soup = BeautifulSoup(response.content, 'html.parser')\n",
    "    team = soup.find('span',class_=\"long\")\n",
    "    home_team.append(team.text)"
   ]
  },
  {
   "cell_type": "code",
   "execution_count": 40,
   "id": "daf789f8",
   "metadata": {},
   "outputs": [
    {
     "name": "stdout",
     "output_type": "stream",
     "text": [
      "['Liverpool', 'AFC Bournemouth', 'Burnley', 'Crystal Palace', 'Leicester City', 'Tottenham Hotspur', 'Watford', 'West Ham United', 'Manchester United', 'Newcastle United', 'Arsenal', 'Aston Villa', 'Brighton and Hove Albion', 'Chelsea', 'Everton', 'Manchester City', 'Norwich City', 'Sheffield United', 'Southampton', 'Wolverhampton Wanderers', 'Aston Villa', 'AFC Bournemouth', 'Brighton and Hove Albion', 'Liverpool', 'Manchester United', 'Norwich City', 'Sheffield United', 'Tottenham Hotspur', 'Watford', 'Wolverhampton Wanderers', 'Arsenal', 'Burnley', 'Chelsea', 'Crystal Palace', 'Everton', 'Leicester City', 'Manchester City', 'Newcastle United', 'Southampton']\n"
     ]
    }
   ],
   "source": [
    "print(home_team)"
   ]
  },
  {
   "cell_type": "code",
   "execution_count": 65,
   "id": "8d27b97c",
   "metadata": {},
   "outputs": [],
   "source": [
    "away_team = []"
   ]
  },
  {
   "cell_type": "code",
   "execution_count": 140,
   "id": "c3e207db",
   "metadata": {},
   "outputs": [
    {
     "ename": "TypeError",
     "evalue": "slice indices must be integers or None or have an __index__ method",
     "output_type": "error",
     "traceback": [
      "\u001b[0;31m---------------------------------------------------------------------------\u001b[0m",
      "\u001b[0;31mTypeError\u001b[0m                                 Traceback (most recent call last)",
      "\u001b[0;32m/var/folders/tf/tsz9f2110cng0r55pjl5pd240000gn/T/ipykernel_11898/1285893182.py\u001b[0m in \u001b[0;36m<module>\u001b[0;34m\u001b[0m\n\u001b[1;32m      9\u001b[0m     \u001b[0mopponents\u001b[0m \u001b[0;34m=\u001b[0m \u001b[0msoup\u001b[0m\u001b[0;34m.\u001b[0m\u001b[0mfind\u001b[0m\u001b[0;34m(\u001b[0m\u001b[0;34m\"div\"\u001b[0m\u001b[0;34m,\u001b[0m \u001b[0;34m{\u001b[0m\u001b[0;34m\"class\"\u001b[0m\u001b[0;34m:\u001b[0m \u001b[0;34m\"team away\"\u001b[0m\u001b[0;34m}\u001b[0m\u001b[0;34m)\u001b[0m\u001b[0;34m\u001b[0m\u001b[0;34m\u001b[0m\u001b[0m\n\u001b[1;32m     10\u001b[0m     \u001b[0;32mfor\u001b[0m \u001b[0mopponent\u001b[0m \u001b[0;32min\u001b[0m \u001b[0mopponents\u001b[0m\u001b[0;34m:\u001b[0m\u001b[0;34m\u001b[0m\u001b[0;34m\u001b[0m\u001b[0m\n\u001b[0;32m---> 11\u001b[0;31m        \u001b[0maway_team\u001b[0m \u001b[0;34m=\u001b[0m \u001b[0mopponent\u001b[0m\u001b[0;34m.\u001b[0m\u001b[0mfind\u001b[0m\u001b[0;34m(\u001b[0m\u001b[0;34m\"span\"\u001b[0m\u001b[0;34m,\u001b[0m \u001b[0;34m{\u001b[0m\u001b[0;34m\"class\"\u001b[0m\u001b[0;34m:\u001b[0m \u001b[0;34m\"long\"\u001b[0m\u001b[0;34m}\u001b[0m\u001b[0;34m)\u001b[0m\u001b[0;34m\u001b[0m\u001b[0;34m\u001b[0m\u001b[0m\n\u001b[0m\u001b[1;32m     12\u001b[0m \u001b[0;34m\u001b[0m\u001b[0m\n\u001b[1;32m     13\u001b[0m \u001b[0;34m\u001b[0m\u001b[0m\n",
      "\u001b[0;31mTypeError\u001b[0m: slice indices must be integers or None or have an __index__ method"
     ]
    }
   ],
   "source": [
    "og_url = 'https://premierleague.com/match/{0}'\n",
    "\n",
    "# use list coprehension to get all the urls\n",
    "all_urls = [og_url.format(match) for match in range(46605, 46606)]\n",
    "\n",
    "for url in all_urls:\n",
    "    response = requests.get(url)\n",
    "    soup = BeautifulSoup(response.content, 'html.parser') \n",
    "    opponents = soup.find(\"div\", {\"class\": \"team away\"})\n",
    "    for opponent in opponents:\n",
    "       away_team = opponent.find(\"span\", {\"class\": \"long\"})\n",
    "    \n",
    "        \n"
   ]
  },
  {
   "cell_type": "code",
   "execution_count": 78,
   "id": "ee17cbb2",
   "metadata": {},
   "outputs": [
    {
     "name": "stdout",
     "output_type": "stream",
     "text": [
      "<div class=\"team away\">\n",
      "<a aria-hidden=\"true\" class=\"badgeContainer\" href=\"/clubs/14/Norwich-City/overview\">\n",
      "<span class=\"badge badge--large badge-image-container\" data-size=\"50\" data-widget=\"club-badge-image\">\n",
      "<img class=\"badge-image badge-image--50\" src=\"https://resources.premierleague.com/premierleague/badges/50/t45.png\" srcset=\"https://resources.premierleague.com/premierleague/badges/50/t45.png, https://resources.premierleague.com/premierleague/badges/50/t45@x2.png 2x\">\n",
      "</img></span>\n",
      "<span class=\"badge badge--small badge-image-container\" data-size=\"25\" data-widget=\"club-badge-image\">\n",
      "<img class=\"badge-image badge-image--25\" src=\"https://resources.premierleague.com/premierleague/badges/25/t45.png\" srcset=\"https://resources.premierleague.com/premierleague/badges/25/t45.png, https://resources.premierleague.com/premierleague/badges/25/t45@x2.png 2x\">\n",
      "</img></span>\n",
      "</a>\n",
      "<a aria-hidden=\"true\" class=\"teamName\" href=\"/clubs/14/Norwich-City/overview\">\n",
      "<span class=\"long\">Norwich City</span>\n",
      "<span class=\"short\">NOR</span>\n",
      "</a>\n",
      "</div>\n"
     ]
    }
   ],
   "source": [
    "print(team)"
   ]
  },
  {
   "cell_type": "code",
   "execution_count": 103,
   "id": "09206686",
   "metadata": {},
   "outputs": [
    {
     "name": "stdout",
     "output_type": "stream",
     "text": [
      "<span class=\"long\">Liverpool</span>\n"
     ]
    }
   ],
   "source": [
    "print(teamr)"
   ]
  },
  {
   "cell_type": "code",
   "execution_count": 109,
   "id": "67535765",
   "metadata": {},
   "outputs": [
    {
     "name": "stdout",
     "output_type": "stream",
     "text": [
      "None\n"
     ]
    }
   ],
   "source": [
    "print(teamr3)"
   ]
  },
  {
   "cell_type": "code",
   "execution_count": 101,
   "id": "958ea221",
   "metadata": {},
   "outputs": [
    {
     "ename": "AttributeError",
     "evalue": "ResultSet object has no attribute 'text'. You're probably treating a list of elements like a single element. Did you call find_all() when you meant to call find()?",
     "output_type": "error",
     "traceback": [
      "\u001b[0;31m---------------------------------------------------------------------------\u001b[0m",
      "\u001b[0;31mAttributeError\u001b[0m                            Traceback (most recent call last)",
      "\u001b[0;32m/var/folders/tf/tsz9f2110cng0r55pjl5pd240000gn/T/ipykernel_11898/2966432149.py\u001b[0m in \u001b[0;36m<module>\u001b[0;34m\u001b[0m\n\u001b[0;32m----> 1\u001b[0;31m \u001b[0mprint\u001b[0m\u001b[0;34m(\u001b[0m\u001b[0mteamsss\u001b[0m\u001b[0;34m.\u001b[0m\u001b[0mtext\u001b[0m\u001b[0;34m)\u001b[0m\u001b[0;34m\u001b[0m\u001b[0;34m\u001b[0m\u001b[0m\n\u001b[0m",
      "\u001b[0;32m/opt/anaconda3/lib/python3.9/site-packages/bs4/element.py\u001b[0m in \u001b[0;36m__getattr__\u001b[0;34m(self, key)\u001b[0m\n\u001b[1;32m   2251\u001b[0m     \u001b[0;32mdef\u001b[0m \u001b[0m__getattr__\u001b[0m\u001b[0;34m(\u001b[0m\u001b[0mself\u001b[0m\u001b[0;34m,\u001b[0m \u001b[0mkey\u001b[0m\u001b[0;34m)\u001b[0m\u001b[0;34m:\u001b[0m\u001b[0;34m\u001b[0m\u001b[0;34m\u001b[0m\u001b[0m\n\u001b[1;32m   2252\u001b[0m         \u001b[0;34m\"\"\"Raise a helpful exception to explain a common code fix.\"\"\"\u001b[0m\u001b[0;34m\u001b[0m\u001b[0;34m\u001b[0m\u001b[0m\n\u001b[0;32m-> 2253\u001b[0;31m         raise AttributeError(\n\u001b[0m\u001b[1;32m   2254\u001b[0m             \u001b[0;34m\"ResultSet object has no attribute '%s'. You're probably treating a list of elements like a single element. Did you call find_all() when you meant to call find()?\"\u001b[0m \u001b[0;34m%\u001b[0m \u001b[0mkey\u001b[0m\u001b[0;34m\u001b[0m\u001b[0;34m\u001b[0m\u001b[0m\n\u001b[1;32m   2255\u001b[0m         )\n",
      "\u001b[0;31mAttributeError\u001b[0m: ResultSet object has no attribute 'text'. You're probably treating a list of elements like a single element. Did you call find_all() when you meant to call find()?"
     ]
    }
   ],
   "source": [
    "print(teamsss.text)"
   ]
  },
  {
   "cell_type": "code",
   "execution_count": 92,
   "id": "facdf91d",
   "metadata": {},
   "outputs": [
    {
     "name": "stdout",
     "output_type": "stream",
     "text": [
      "[<span class=\"long\">Liverpool</span>, <span class=\"long\">Norwich City</span>, <span class=\"long\">Half Time: </span>]\n"
     ]
    }
   ],
   "source": [
    "print(teamsss)"
   ]
  },
  {
   "cell_type": "code",
   "execution_count": 86,
   "id": "8815b90c",
   "metadata": {},
   "outputs": [
    {
     "name": "stdout",
     "output_type": "stream",
     "text": [
      "<div class=\"team away\">\n",
      "<a aria-hidden=\"true\" class=\"badgeContainer\" href=\"/clubs/14/Norwich-City/overview\">\n",
      "<span class=\"badge badge--large badge-image-container\" data-size=\"50\" data-widget=\"club-badge-image\">\n",
      "<img class=\"badge-image badge-image--50\" src=\"https://resources.premierleague.com/premierleague/badges/50/t45.png\" srcset=\"https://resources.premierleague.com/premierleague/badges/50/t45.png, https://resources.premierleague.com/premierleague/badges/50/t45@x2.png 2x\">\n",
      "</img></span>\n",
      "<span class=\"badge badge--small badge-image-container\" data-size=\"25\" data-widget=\"club-badge-image\">\n",
      "<img class=\"badge-image badge-image--25\" src=\"https://resources.premierleague.com/premierleague/badges/25/t45.png\" srcset=\"https://resources.premierleague.com/premierleague/badges/25/t45.png, https://resources.premierleague.com/premierleague/badges/25/t45@x2.png 2x\">\n",
      "</img></span>\n",
      "</a>\n",
      "<a aria-hidden=\"true\" class=\"teamName\" href=\"/clubs/14/Norwich-City/overview\">\n",
      "<span class=\"long\">Norwich City</span>\n",
      "<span class=\"short\">NOR</span>\n",
      "</a>\n",
      "</div>\n"
     ]
    }
   ],
   "source": [
    "print(teams)"
   ]
  },
  {
   "cell_type": "code",
   "execution_count": 59,
   "id": "48c8363f",
   "metadata": {},
   "outputs": [
    {
     "name": "stdout",
     "output_type": "stream",
     "text": [
      "                   Home Team Score\n",
      "0                  Liverpool   4-1\n",
      "1            AFC Bournemouth   1-1\n",
      "2                    Burnley   3-0\n",
      "3             Crystal Palace   0-0\n",
      "4             Leicester City   0-0\n",
      "5          Tottenham Hotspur   3-1\n",
      "6                    Watford   0-3\n",
      "7            West Ham United   0-5\n",
      "8          Manchester United   4-0\n",
      "9           Newcastle United   0-1\n",
      "10                   Arsenal   2-1\n",
      "11               Aston Villa   1-2\n",
      "12  Brighton and Hove Albion   1-1\n",
      "13                   Chelsea   1-1\n",
      "14                   Everton   1-0\n",
      "15           Manchester City   2-2\n",
      "16              Norwich City   3-1\n",
      "17          Sheffield United   1-0\n",
      "18               Southampton   1-2\n",
      "19   Wolverhampton Wanderers   1-1\n",
      "20               Aston Villa   2-0\n",
      "21           AFC Bournemouth   1-3\n",
      "22  Brighton and Hove Albion   0-2\n",
      "23                 Liverpool   3-1\n",
      "24         Manchester United   1-2\n",
      "25              Norwich City   2-3\n",
      "26          Sheffield United   1-2\n",
      "27         Tottenham Hotspur   0-1\n",
      "28                   Watford   1-3\n",
      "29   Wolverhampton Wanderers   1-1\n",
      "30                   Arsenal   2-2\n",
      "31                   Burnley   0-3\n",
      "32                   Chelsea   2-2\n",
      "33            Crystal Palace   1-0\n",
      "34                   Everton   3-2\n",
      "35            Leicester City   3-1\n",
      "36           Manchester City   4-0\n",
      "37          Newcastle United   1-1\n",
      "38               Southampton   1-1\n"
     ]
    }
   ],
   "source": [
    "import pandas as pd\n",
    "data_tuples = list(zip(home_team, all_scores))\n",
    "df = pd.DataFrame(data_tuples, columns = ['Home Team', 'Score'])\n",
    "print(df)"
   ]
  },
  {
   "cell_type": "code",
   "execution_count": null,
   "id": "3f1d9fb7",
   "metadata": {},
   "outputs": [],
   "source": [
    "\n",
    "divTag = soup.find(\"div\", {\"class\": \"team home\"})\n",
    "\n",
    "for tag in divTag:\n",
    "    tdTags = tag.find_all(\"span\", {\"class\": \"long\"})\n",
    "    for tag in tdTags:\n",
    "        print tag.text"
   ]
  },
  {
   "cell_type": "code",
   "execution_count": 135,
   "id": "c343e0af",
   "metadata": {},
   "outputs": [],
   "source": [
    "url = 'https://premierleague.com/match/46605'\n",
    "\n",
    "page = requests.get(url)\n",
    "\n",
    "soup = BeautifulSoup(page.content, 'html.parser')\n",
    "\n",
    "divTag = soup.find(\"div\", {\"class\": \"team home\"})\n",
    "\n",
    "for tag in divTag:\n",
    "    tdTags = soup.find('span',class_=\"long\")\n",
    "    home_teams = tdTags.text"
   ]
  },
  {
   "cell_type": "code",
   "execution_count": 136,
   "id": "9f8a6090",
   "metadata": {},
   "outputs": [
    {
     "name": "stdout",
     "output_type": "stream",
     "text": [
      "Liverpool\n"
     ]
    }
   ],
   "source": [
    "print(home_teams)"
   ]
  },
  {
   "cell_type": "code",
   "execution_count": 142,
   "id": "1c0a08b2",
   "metadata": {},
   "outputs": [],
   "source": [
    "url = 'https://premierleague.com/match/46605'\n",
    "\n",
    "page = requests.get(url)\n",
    "\n",
    "soup = BeautifulSoup(page.content, 'html.parser')\n",
    "\n",
    "divTags = soup.find(\"div\", {\"class\": \"team away\"}).find('span',class_=\"long\")"
   ]
  },
  {
   "cell_type": "code",
   "execution_count": 141,
   "id": "7b278716",
   "metadata": {},
   "outputs": [
    {
     "name": "stdout",
     "output_type": "stream",
     "text": [
      "<div class=\"team away\">\n",
      "<a aria-hidden=\"true\" class=\"badgeContainer\" href=\"/clubs/14/Norwich-City/overview\">\n",
      "<span class=\"badge badge--large badge-image-container\" data-size=\"50\" data-widget=\"club-badge-image\">\n",
      "<img class=\"badge-image badge-image--50\" src=\"https://resources.premierleague.com/premierleague/badges/50/t45.png\" srcset=\"https://resources.premierleague.com/premierleague/badges/50/t45.png, https://resources.premierleague.com/premierleague/badges/50/t45@x2.png 2x\">\n",
      "</img></span>\n",
      "<span class=\"badge badge--small badge-image-container\" data-size=\"25\" data-widget=\"club-badge-image\">\n",
      "<img class=\"badge-image badge-image--25\" src=\"https://resources.premierleague.com/premierleague/badges/25/t45.png\" srcset=\"https://resources.premierleague.com/premierleague/badges/25/t45.png, https://resources.premierleague.com/premierleague/badges/25/t45@x2.png 2x\">\n",
      "</img></span>\n",
      "</a>\n",
      "<a aria-hidden=\"true\" class=\"teamName\" href=\"/clubs/14/Norwich-City/overview\">\n",
      "<span class=\"long\">Norwich City</span>\n",
      "<span class=\"short\">NOR</span>\n",
      "</a>\n",
      "</div>\n"
     ]
    }
   ],
   "source": [
    "print(divTag)"
   ]
  },
  {
   "cell_type": "code",
   "execution_count": 143,
   "id": "292372ef",
   "metadata": {},
   "outputs": [
    {
     "name": "stdout",
     "output_type": "stream",
     "text": [
      "<span class=\"long\">Norwich City</span>\n"
     ]
    }
   ],
   "source": [
    "print(divTags)"
   ]
  },
  {
   "cell_type": "code",
   "execution_count": 144,
   "id": "de4cd8d7",
   "metadata": {},
   "outputs": [
    {
     "name": "stdout",
     "output_type": "stream",
     "text": [
      "Norwich City\n"
     ]
    }
   ],
   "source": [
    "away_teams = divTags.text\n",
    "print(away_teams)"
   ]
  },
  {
   "cell_type": "code",
   "execution_count": 156,
   "id": "ad04aa3b",
   "metadata": {},
   "outputs": [],
   "source": [
    "home_teams = []\n",
    "away_teams = []\n",
    "scores = []"
   ]
  },
  {
   "cell_type": "code",
   "execution_count": 155,
   "id": "a56efc9c",
   "metadata": {},
   "outputs": [],
   "source": [
    "url = 'https://premierleague.com/match/{0}'\n",
    "\n",
    "# use list coprehension to get all the urls\n",
    "all_urls = [url.format(match) for match in range(46605, 46644)]\n",
    "\n",
    "for url in all_urls:\n",
    "    response = requests.get(url)\n",
    "    soup = BeautifulSoup(response.content, 'html.parser')\n",
    "    home_team = soup.find(\"div\", {\"class\": \"team home\"}).find('span',class_=\"long\")\n",
    "    away_team = soup.find(\"div\", {\"class\": \"team away\"}).find('span',class_=\"long\")\n",
    "    soccer_scores = soup.find('div',class_=\"score fullTime\")\n",
    "    scores.append(soccer_scores.text)\n",
    "    home_teams.append(home_team.text)\n",
    "    away_teams.append(away_team.text)"
   ]
  },
  {
   "cell_type": "code",
   "execution_count": 153,
   "id": "1bd2723f",
   "metadata": {},
   "outputs": [
    {
     "name": "stdout",
     "output_type": "stream",
     "text": [
      "['Liverpool', 'Liverpool']\n",
      "['Norwich City', 'Norwich City']\n",
      "['4-1', '4-1']\n"
     ]
    }
   ],
   "source": [
    "print(home_teams)\n",
    "print(away_teams)\n",
    "print(scores)"
   ]
  },
  {
   "cell_type": "code",
   "execution_count": 154,
   "id": "2b7dc280",
   "metadata": {},
   "outputs": [
    {
     "name": "stdout",
     "output_type": "stream",
     "text": [
      "   Home Team Score     Away Team\n",
      "0  Liverpool   4-1  Norwich City\n",
      "1  Liverpool   4-1  Norwich City\n"
     ]
    }
   ],
   "source": [
    "import pandas as pd\n",
    "data_tuples = list(zip(home_teams, scores, away_teams))\n",
    "df = pd.DataFrame(data_tuples, columns = ['Home Team', 'Score', 'Away Team'])\n",
    "print(df)"
   ]
  },
  {
   "cell_type": "code",
   "execution_count": null,
   "id": "40cb871b",
   "metadata": {},
   "outputs": [],
   "source": []
  }
 ],
 "metadata": {
  "kernelspec": {
   "display_name": "Python 3 (ipykernel)",
   "language": "python",
   "name": "python3"
  },
  "language_info": {
   "codemirror_mode": {
    "name": "ipython",
    "version": 3
   },
   "file_extension": ".py",
   "mimetype": "text/x-python",
   "name": "python",
   "nbconvert_exporter": "python",
   "pygments_lexer": "ipython3",
   "version": "3.9.7"
  }
 },
 "nbformat": 4,
 "nbformat_minor": 5
}
