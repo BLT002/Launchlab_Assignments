{
 "cells": [
  {
   "cell_type": "markdown",
   "metadata": {
    "id": "h4xvH_KV8v4S"
   },
   "source": [
    "# Assignment \\#3: Importing Data (Part 2)\n",
    "In this Assignment you will be practising alternative ways of sourcing data.\n",
    "\n",
    "## Web scraping\n",
    "For this Assignment you are tasked with scraping the following website: 'premierleague.com'\n",
    "\n",
    "On this website you are looking for the results of football matches that took place in August 2019.\n",
    "\n",
    "The results of these matches can be found by going to the url 'premierleague.com/match/\\[match_ID\\]' where match_ID will start at 46605 up to 46644. \n",
    "\n",
    "## Examing the code below.\n",
    "The cell below contains limited capability of scraping the website for the results of a match and requires further functionality.\n",
    "\n",
    "The code retrieves the html page containing the match results.\n",
    "Finish the code to retrieve the following <div\\> in which both team names as well as the score line for a match can be found:\n",
    "\n",
    "Find and print the contents of <div class=\"teamsContainer\"\\></div\\>\n"
   ]
  },
  {
   "cell_type": "code",
   "execution_count": 52,
   "metadata": {
    "id": "TVjC_6i18v4T",
    "tags": []
   },
   "outputs": [
    {
     "name": "stdout",
     "output_type": "stream",
     "text": [
      "<div aria-atomic=\"true\" aria-live=\"polite\" class=\"teamsContainer\">\n",
      "<div class=\"team home\">\n",
      "<a aria-hidden=\"true\" class=\"badgeContainer\" href=\"/clubs/10/Liverpool/overview\">\n",
      "<span class=\"badge badge--large badge-image-container\" data-size=\"50\" data-widget=\"club-badge-image\">\n",
      "<img class=\"badge-image badge-image--50\" src=\"https://resources.premierleague.com/premierleague/badges/50/t14.png\" srcset=\"https://resources.premierleague.com/premierleague/badges/50/t14.png, https://resources.premierleague.com/premierleague/badges/50/t14@x2.png 2x\">\n",
      "</img></span>\n",
      "<span class=\"badge badge--small badge-image-container\" data-size=\"25\" data-widget=\"club-badge-image\">\n",
      "<img class=\"badge-image badge-image--25\" src=\"https://resources.premierleague.com/premierleague/badges/25/t14.png\" srcset=\"https://resources.premierleague.com/premierleague/badges/25/t14.png, https://resources.premierleague.com/premierleague/badges/25/t14@x2.png 2x\">\n",
      "</img></span>\n",
      "</a>\n",
      "<a aria-hidden=\"true\" class=\"teamName\" href=\"/clubs/10/Liverpool/overview\">\n",
      "<span class=\"long\">Liverpool</span>\n",
      "<span class=\"short\">LIV</span>\n",
      "</a>\n",
      "</div>\n",
      "<div class=\"matchScoreContainer\">\n",
      "<div class=\"centre\">\n",
      "<div class=\"score fullTime\">4<span>-</span>1</div>\n",
      "</div>\n",
      "</div>\n",
      "<div class=\"team away\">\n",
      "<a aria-hidden=\"true\" class=\"badgeContainer\" href=\"/clubs/14/Norwich-City/overview\">\n",
      "<span class=\"badge badge--large badge-image-container\" data-size=\"50\" data-widget=\"club-badge-image\">\n",
      "<img class=\"badge-image badge-image--50\" src=\"https://resources.premierleague.com/premierleague/badges/50/t45.png\" srcset=\"https://resources.premierleague.com/premierleague/badges/50/t45.png, https://resources.premierleague.com/premierleague/badges/50/t45@x2.png 2x\">\n",
      "</img></span>\n",
      "<span class=\"badge badge--small badge-image-container\" data-size=\"25\" data-widget=\"club-badge-image\">\n",
      "<img class=\"badge-image badge-image--25\" src=\"https://resources.premierleague.com/premierleague/badges/25/t45.png\" srcset=\"https://resources.premierleague.com/premierleague/badges/25/t45.png, https://resources.premierleague.com/premierleague/badges/25/t45@x2.png 2x\">\n",
      "</img></span>\n",
      "</a>\n",
      "<a aria-hidden=\"true\" class=\"teamName\" href=\"/clubs/14/Norwich-City/overview\">\n",
      "<span class=\"long\">Norwich City</span>\n",
      "<span class=\"short\">NOR</span>\n",
      "</a>\n",
      "</div>\n",
      "</div>\n"
     ]
    }
   ],
   "source": [
    "from bs4 import BeautifulSoup\n",
    "import requests\n",
    "import pandas as pd\n",
    "\n",
    "url = 'https://premierleague.com/match/46605'\n",
    "\n",
    "page = requests.get(url)\n",
    "\n",
    "soup = BeautifulSoup(page.content, 'html.parser')\n",
    "\n",
    "# insert code here\n",
    "teams_container = soup.find(\"div\", {\"class\": \"teamsContainer\"})\n",
    "print(teams_container)"
   ]
  },
  {
   "cell_type": "code",
   "execution_count": 18,
   "metadata": {},
   "outputs": [
    {
     "data": {
      "text/plain": [
       "bs4.element.Tag"
      ]
     },
     "execution_count": 18,
     "metadata": {},
     "output_type": "execute_result"
    }
   ],
   "source": [
    "type(teams_container)"
   ]
  },
  {
   "cell_type": "markdown",
   "metadata": {
    "id": "D8ZJumM38v4U"
   },
   "source": [
    "## Write code to clean the html code stored in 'teamsContainer' to output the team names and scoreline of the given match."
   ]
  },
  {
   "cell_type": "code",
   "execution_count": 82,
   "metadata": {},
   "outputs": [],
   "source": [
    "result = []"
   ]
  },
  {
   "cell_type": "code",
   "execution_count": 83,
   "metadata": {
    "id": "gq75-ouR8v4U"
   },
   "outputs": [],
   "source": [
    "\n",
    "# write code here\n",
    "score = teams_container.find('div',class_=\"score fullTime\")\n",
    "scoreline = (score.text)\n",
    "home_score = scoreline[0]\n",
    "away_score = scoreline[2]\n",
    "\n",
    "home = soup.find(\"div\", {\"class\": \"team home\"}).find('span',class_=\"long\")\n",
    "result.append(home.text)\n",
    "result.append(home_score)\n",
    "\n",
    "\n",
    "away = soup.find(\"div\", {\"class\": \"team away\"}).find('span',class_=\"long\")\n",
    "result.append(away.text)\n",
    "result.append(away_score)"
   ]
  },
  {
   "cell_type": "code",
   "execution_count": 84,
   "metadata": {},
   "outputs": [
    {
     "name": "stdout",
     "output_type": "stream",
     "text": [
      "['Liverpool', '4', 'Norwich City', '1']\n"
     ]
    }
   ],
   "source": [
    "print(result)"
   ]
  },
  {
   "cell_type": "markdown",
   "metadata": {
    "id": "hrCjU5L_8v4U"
   },
   "source": [
    "## Now we want to retrieve the team names as well of the scoreline for all the matches in August (match ID: 46605 to 46643).\n",
    "Save the names of the home team, away team, the number of goals scored by the home team and the number of goals scored by the away team in a dataframe.\n",
    "\n",
    "Afterwards print out the dataframe.\n",
    "\n",
    "Note: If correctly implemented, it should take up to a 3 minutes to scrape these results."
   ]
  },
  {
   "cell_type": "code",
   "execution_count": 87,
   "metadata": {},
   "outputs": [],
   "source": [
    "home_teams = []\n",
    "away_teams = []\n",
    "home_scores = []\n",
    "away_scores =[]"
   ]
  },
  {
   "cell_type": "code",
   "execution_count": 90,
   "metadata": {
    "id": "nlkSA6oo8v4U"
   },
   "outputs": [],
   "source": [
    "# write code here\n",
    "url = 'https://premierleague.com/match/{0}'\n",
    "\n",
    "# use list coprehension to get all the urls\n",
    "all_urls = [url.format(match) for match in range(46605, 46644)]\n",
    "\n",
    "for url in all_urls:\n",
    "    response = requests.get(url)\n",
    "    soup = BeautifulSoup(response.content, 'html.parser')\n",
    "    home_team = soup.find(\"div\", {\"class\": \"team home\"}).find('span',class_=\"long\")\n",
    "    away_team = soup.find(\"div\", {\"class\": \"team away\"}).find('span',class_=\"long\")\n",
    "    \n",
    "    soccer_scores = soup.find('div',class_=\"score fullTime\")\n",
    "    scoreline = (soccer_scores.text)\n",
    "    home_score = scoreline[0]\n",
    "    away_score = scoreline[2]\n",
    "    \n",
    "    home_teams.append(home_team.text)\n",
    "    home_scores.append(home_score)\n",
    "    away_teams.append(away_team.text)\n",
    "    away_scores.append(away_score)"
   ]
  },
  {
   "cell_type": "code",
   "execution_count": 137,
   "metadata": {},
   "outputs": [
    {
     "name": "stdout",
     "output_type": "stream",
     "text": [
      "                   Home Team Home_Score                 Away Team Away_Score\n",
      "0                  Liverpool          4              Norwich City          1\n",
      "1            AFC Bournemouth          1          Sheffield United          1\n",
      "2                    Burnley          3               Southampton          0\n",
      "3                  Liverpool          4              Norwich City          1\n",
      "4            AFC Bournemouth          1          Sheffield United          1\n",
      "5                    Burnley          3               Southampton          0\n",
      "6             Crystal Palace          0                   Everton          0\n",
      "7             Leicester City          0   Wolverhampton Wanderers          0\n",
      "8          Tottenham Hotspur          3               Aston Villa          1\n",
      "9                    Watford          0  Brighton and Hove Albion          3\n",
      "10           West Ham United          0           Manchester City          5\n",
      "11         Manchester United          4                   Chelsea          0\n",
      "12          Newcastle United          0                   Arsenal          1\n",
      "13                   Arsenal          2                   Burnley          1\n",
      "14               Aston Villa          1           AFC Bournemouth          2\n",
      "15  Brighton and Hove Albion          1           West Ham United          1\n",
      "16                   Chelsea          1            Leicester City          1\n",
      "17                   Everton          1                   Watford          0\n",
      "18           Manchester City          2         Tottenham Hotspur          2\n",
      "19              Norwich City          3          Newcastle United          1\n",
      "20          Sheffield United          1            Crystal Palace          0\n",
      "21               Southampton          1                 Liverpool          2\n",
      "22   Wolverhampton Wanderers          1         Manchester United          1\n",
      "23               Aston Villa          2                   Everton          0\n",
      "24           AFC Bournemouth          1           Manchester City          3\n",
      "25  Brighton and Hove Albion          0               Southampton          2\n",
      "26                 Liverpool          3                   Arsenal          1\n",
      "27         Manchester United          1            Crystal Palace          2\n",
      "28              Norwich City          2                   Chelsea          3\n",
      "29          Sheffield United          1            Leicester City          2\n",
      "30         Tottenham Hotspur          0          Newcastle United          1\n",
      "31                   Watford          1           West Ham United          3\n",
      "32   Wolverhampton Wanderers          1                   Burnley          1\n",
      "33                   Arsenal          2         Tottenham Hotspur          2\n",
      "34                   Burnley          0                 Liverpool          3\n",
      "35                   Chelsea          2          Sheffield United          2\n",
      "36            Crystal Palace          1               Aston Villa          0\n",
      "37                   Everton          3   Wolverhampton Wanderers          2\n",
      "38            Leicester City          3           AFC Bournemouth          1\n",
      "39           Manchester City          4  Brighton and Hove Albion          0\n",
      "40          Newcastle United          1                   Watford          1\n",
      "41               Southampton          1         Manchester United          1\n"
     ]
    }
   ],
   "source": [
    "import pandas as pd\n",
    "data_tuples = list(zip(home_teams, home_scores, away_teams, away_scores))\n",
    "df = pd.DataFrame(data_tuples, columns = ['Home Team', 'Home_Score', 'Away Team', 'Away_Score'])\n",
    "print(df)"
   ]
  },
  {
   "cell_type": "markdown",
   "metadata": {
    "id": "OQh0avFo8v4V"
   },
   "source": [
    "## Print a list of all unique teams."
   ]
  },
  {
   "cell_type": "code",
   "execution_count": 188,
   "metadata": {
    "id": "8udNvM4V8v4V"
   },
   "outputs": [
    {
     "name": "stdout",
     "output_type": "stream",
     "text": [
      "There are 20 unique teams pulled during the scraping\n",
      "They are {'Sheffield United', 'Liverpool', 'West Ham United', 'Newcastle United', 'Tottenham Hotspur', 'Aston Villa', 'Manchester United', 'Watford', 'Manchester City', 'Wolverhampton Wanderers', 'Burnley', 'Chelsea', 'Arsenal', 'Everton', 'Brighton and Hove Albion', 'AFC Bournemouth', 'Norwich City', 'Leicester City', 'Crystal Palace', 'Southampton'}\n"
     ]
    }
   ],
   "source": [
    "# write code here\n",
    "all_teams = home_teams + away_teams\n",
    "unique_teams = set(all_teams)\n",
    "print(f\"There are \" + str(len(unique_teams)) + \" unique teams pulled during the scraping\")\n",
    "print(f\"They are \" + str((unique_teams)) )"
   ]
  },
  {
   "cell_type": "markdown",
   "metadata": {
    "id": "ncIr4G7n8v4W"
   },
   "source": [
    "## Using the scores of each match, compute the current standings.\n",
    "Use the following rules to calculate the points for a given team:\n",
    "\n",
    "For a win, award a team 3, points.\n",
    "\n",
    "A draw earns both teams 1 point.\n",
    "\n",
    "No points are earned for a loss.\n",
    "\n",
    "### Print the resulting dataframe ordered by total points.\n",
    "Your dataframe should have the following columns: Team Name, Total points.\n"
   ]
  },
  {
   "cell_type": "code",
   "execution_count": 138,
   "metadata": {},
   "outputs": [],
   "source": [
    "#Convert the values from str to int so can do calculations based on the scoreline\n",
    "df = df.astype({\"Home_Score\":\"int\",\"Away_Score\":\"int\"}) "
   ]
  },
  {
   "cell_type": "code",
   "execution_count": 139,
   "metadata": {},
   "outputs": [],
   "source": [
    "#Find Home Score run\n",
    "def categorise_home(row):  \n",
    "    if row['Home_Score'] > row['Away_Score']:\n",
    "        return 3\n",
    "    elif row['Home_Score'] == row['Away_Score']:\n",
    "        return 1\n",
    "    else:\n",
    "        return 0"
   ]
  },
  {
   "cell_type": "code",
   "execution_count": 140,
   "metadata": {},
   "outputs": [],
   "source": [
    "df['Home_Points'] = df.apply(lambda row: categorise_home(row), axis=1) #add a new column"
   ]
  },
  {
   "cell_type": "code",
   "execution_count": 141,
   "metadata": {},
   "outputs": [],
   "source": [
    "#Find Home Score\n",
    "def categorise_away(row):  \n",
    "    if row['Home_Score'] < row['Away_Score']:\n",
    "        return 3\n",
    "    elif row['Home_Score'] == row['Away_Score']:\n",
    "        return 1\n",
    "    else:\n",
    "        return 0\n"
   ]
  },
  {
   "cell_type": "code",
   "execution_count": 189,
   "metadata": {},
   "outputs": [],
   "source": [
    "df['Away_Points'] = df.apply(lambda row: categorise_away(row), axis=1) #add new column"
   ]
  },
  {
   "cell_type": "code",
   "execution_count": 190,
   "metadata": {
    "id": "AEQ09VKX8v4W"
   },
   "outputs": [
    {
     "name": "stdout",
     "output_type": "stream",
     "text": [
      "                   Home Team  Home_Score                 Away Team  \\\n",
      "0                  Liverpool           4              Norwich City   \n",
      "1            AFC Bournemouth           1          Sheffield United   \n",
      "2                    Burnley           3               Southampton   \n",
      "3                  Liverpool           4              Norwich City   \n",
      "4            AFC Bournemouth           1          Sheffield United   \n",
      "5                    Burnley           3               Southampton   \n",
      "6             Crystal Palace           0                   Everton   \n",
      "7             Leicester City           0   Wolverhampton Wanderers   \n",
      "8          Tottenham Hotspur           3               Aston Villa   \n",
      "9                    Watford           0  Brighton and Hove Albion   \n",
      "10           West Ham United           0           Manchester City   \n",
      "11         Manchester United           4                   Chelsea   \n",
      "12          Newcastle United           0                   Arsenal   \n",
      "13                   Arsenal           2                   Burnley   \n",
      "14               Aston Villa           1           AFC Bournemouth   \n",
      "15  Brighton and Hove Albion           1           West Ham United   \n",
      "16                   Chelsea           1            Leicester City   \n",
      "17                   Everton           1                   Watford   \n",
      "18           Manchester City           2         Tottenham Hotspur   \n",
      "19              Norwich City           3          Newcastle United   \n",
      "20          Sheffield United           1            Crystal Palace   \n",
      "21               Southampton           1                 Liverpool   \n",
      "22   Wolverhampton Wanderers           1         Manchester United   \n",
      "23               Aston Villa           2                   Everton   \n",
      "24           AFC Bournemouth           1           Manchester City   \n",
      "25  Brighton and Hove Albion           0               Southampton   \n",
      "26                 Liverpool           3                   Arsenal   \n",
      "27         Manchester United           1            Crystal Palace   \n",
      "28              Norwich City           2                   Chelsea   \n",
      "29          Sheffield United           1            Leicester City   \n",
      "30         Tottenham Hotspur           0          Newcastle United   \n",
      "31                   Watford           1           West Ham United   \n",
      "32   Wolverhampton Wanderers           1                   Burnley   \n",
      "33                   Arsenal           2         Tottenham Hotspur   \n",
      "34                   Burnley           0                 Liverpool   \n",
      "35                   Chelsea           2          Sheffield United   \n",
      "36            Crystal Palace           1               Aston Villa   \n",
      "37                   Everton           3   Wolverhampton Wanderers   \n",
      "38            Leicester City           3           AFC Bournemouth   \n",
      "39           Manchester City           4  Brighton and Hove Albion   \n",
      "40          Newcastle United           1                   Watford   \n",
      "41               Southampton           1         Manchester United   \n",
      "\n",
      "    Away_Score  Home_Points  Away_Points  \n",
      "0            1            3            0  \n",
      "1            1            1            1  \n",
      "2            0            3            0  \n",
      "3            1            3            0  \n",
      "4            1            1            1  \n",
      "5            0            3            0  \n",
      "6            0            1            1  \n",
      "7            0            1            1  \n",
      "8            1            3            0  \n",
      "9            3            0            3  \n",
      "10           5            0            3  \n",
      "11           0            3            0  \n",
      "12           1            0            3  \n",
      "13           1            3            0  \n",
      "14           2            0            3  \n",
      "15           1            1            1  \n",
      "16           1            1            1  \n",
      "17           0            3            0  \n",
      "18           2            1            1  \n",
      "19           1            3            0  \n",
      "20           0            3            0  \n",
      "21           2            0            3  \n",
      "22           1            1            1  \n",
      "23           0            3            0  \n",
      "24           3            0            3  \n",
      "25           2            0            3  \n",
      "26           1            3            0  \n",
      "27           2            0            3  \n",
      "28           3            0            3  \n",
      "29           2            0            3  \n",
      "30           1            0            3  \n",
      "31           3            0            3  \n",
      "32           1            1            1  \n",
      "33           2            1            1  \n",
      "34           3            0            3  \n",
      "35           2            1            1  \n",
      "36           0            3            0  \n",
      "37           2            3            0  \n",
      "38           1            3            0  \n",
      "39           0            3            0  \n",
      "40           1            1            1  \n",
      "41           1            1            1  \n"
     ]
    }
   ],
   "source": [
    "# write code here\n",
    "print(df)"
   ]
  },
  {
   "cell_type": "code",
   "execution_count": 191,
   "metadata": {},
   "outputs": [],
   "source": [
    "home_new = df[['Home Team', 'Home_Points']]\n",
    "away_new = df[['Away Team', 'Away_Points']]"
   ]
  },
  {
   "cell_type": "code",
   "execution_count": 192,
   "metadata": {},
   "outputs": [
    {
     "name": "stderr",
     "output_type": "stream",
     "text": [
      "/opt/anaconda3/lib/python3.9/site-packages/pandas/core/frame.py:5039: SettingWithCopyWarning: \n",
      "A value is trying to be set on a copy of a slice from a DataFrame\n",
      "\n",
      "See the caveats in the documentation: https://pandas.pydata.org/pandas-docs/stable/user_guide/indexing.html#returning-a-view-versus-a-copy\n",
      "  return super().rename(\n"
     ]
    }
   ],
   "source": [
    "home_new.rename(columns = {'Home Team':'team_name', 'Home_Points':'points'}, inplace = True)\n",
    "away_new.rename(columns = {'Away Team':'team_name', 'Away_Points':'points'}, inplace = True)\n"
   ]
  },
  {
   "cell_type": "code",
   "execution_count": 193,
   "metadata": {},
   "outputs": [],
   "source": [
    "df3 = pd.concat([home_new,away_new], ignore_index=True)"
   ]
  },
  {
   "cell_type": "code",
   "execution_count": 194,
   "metadata": {},
   "outputs": [],
   "source": [
    "final_table = df3.groupby(['team_name'])['points'].sum()"
   ]
  },
  {
   "cell_type": "code",
   "execution_count": 195,
   "metadata": {},
   "outputs": [
    {
     "name": "stdout",
     "output_type": "stream",
     "text": [
      "team_name\n",
      "AFC Bournemouth              5\n",
      "Arsenal                      7\n",
      "Aston Villa                  3\n",
      "Brighton and Hove Albion     4\n",
      "Burnley                      7\n",
      "Chelsea                      5\n",
      "Crystal Palace               7\n",
      "Everton                      7\n",
      "Leicester City               8\n",
      "Liverpool                   15\n",
      "Manchester City             10\n",
      "Manchester United            5\n",
      "Newcastle United             4\n",
      "Norwich City                 3\n",
      "Sheffield United             6\n",
      "Southampton                  4\n",
      "Tottenham Hotspur            5\n",
      "Watford                      1\n",
      "West Ham United              4\n",
      "Wolverhampton Wanderers      3\n",
      "Name: points, dtype: int64\n"
     ]
    }
   ],
   "source": [
    "print(final_table)"
   ]
  },
  {
   "cell_type": "code",
   "execution_count": 196,
   "metadata": {},
   "outputs": [],
   "source": [
    "table = final_table.to_frame()"
   ]
  },
  {
   "cell_type": "code",
   "execution_count": 197,
   "metadata": {},
   "outputs": [
    {
     "data": {
      "text/html": [
       "<div>\n",
       "<style scoped>\n",
       "    .dataframe tbody tr th:only-of-type {\n",
       "        vertical-align: middle;\n",
       "    }\n",
       "\n",
       "    .dataframe tbody tr th {\n",
       "        vertical-align: top;\n",
       "    }\n",
       "\n",
       "    .dataframe thead th {\n",
       "        text-align: right;\n",
       "    }\n",
       "</style>\n",
       "<table border=\"1\" class=\"dataframe\">\n",
       "  <thead>\n",
       "    <tr style=\"text-align: right;\">\n",
       "      <th></th>\n",
       "      <th>points</th>\n",
       "    </tr>\n",
       "    <tr>\n",
       "      <th>team_name</th>\n",
       "      <th></th>\n",
       "    </tr>\n",
       "  </thead>\n",
       "  <tbody>\n",
       "    <tr>\n",
       "      <th>Liverpool</th>\n",
       "      <td>15</td>\n",
       "    </tr>\n",
       "    <tr>\n",
       "      <th>Manchester City</th>\n",
       "      <td>10</td>\n",
       "    </tr>\n",
       "    <tr>\n",
       "      <th>Leicester City</th>\n",
       "      <td>8</td>\n",
       "    </tr>\n",
       "    <tr>\n",
       "      <th>Arsenal</th>\n",
       "      <td>7</td>\n",
       "    </tr>\n",
       "    <tr>\n",
       "      <th>Burnley</th>\n",
       "      <td>7</td>\n",
       "    </tr>\n",
       "    <tr>\n",
       "      <th>Crystal Palace</th>\n",
       "      <td>7</td>\n",
       "    </tr>\n",
       "    <tr>\n",
       "      <th>Everton</th>\n",
       "      <td>7</td>\n",
       "    </tr>\n",
       "    <tr>\n",
       "      <th>Sheffield United</th>\n",
       "      <td>6</td>\n",
       "    </tr>\n",
       "    <tr>\n",
       "      <th>Tottenham Hotspur</th>\n",
       "      <td>5</td>\n",
       "    </tr>\n",
       "    <tr>\n",
       "      <th>Manchester United</th>\n",
       "      <td>5</td>\n",
       "    </tr>\n",
       "    <tr>\n",
       "      <th>AFC Bournemouth</th>\n",
       "      <td>5</td>\n",
       "    </tr>\n",
       "    <tr>\n",
       "      <th>Chelsea</th>\n",
       "      <td>5</td>\n",
       "    </tr>\n",
       "    <tr>\n",
       "      <th>Newcastle United</th>\n",
       "      <td>4</td>\n",
       "    </tr>\n",
       "    <tr>\n",
       "      <th>Brighton and Hove Albion</th>\n",
       "      <td>4</td>\n",
       "    </tr>\n",
       "    <tr>\n",
       "      <th>Southampton</th>\n",
       "      <td>4</td>\n",
       "    </tr>\n",
       "    <tr>\n",
       "      <th>West Ham United</th>\n",
       "      <td>4</td>\n",
       "    </tr>\n",
       "    <tr>\n",
       "      <th>Norwich City</th>\n",
       "      <td>3</td>\n",
       "    </tr>\n",
       "    <tr>\n",
       "      <th>Aston Villa</th>\n",
       "      <td>3</td>\n",
       "    </tr>\n",
       "    <tr>\n",
       "      <th>Wolverhampton Wanderers</th>\n",
       "      <td>3</td>\n",
       "    </tr>\n",
       "    <tr>\n",
       "      <th>Watford</th>\n",
       "      <td>1</td>\n",
       "    </tr>\n",
       "  </tbody>\n",
       "</table>\n",
       "</div>"
      ],
      "text/plain": [
       "                          points\n",
       "team_name                       \n",
       "Liverpool                     15\n",
       "Manchester City               10\n",
       "Leicester City                 8\n",
       "Arsenal                        7\n",
       "Burnley                        7\n",
       "Crystal Palace                 7\n",
       "Everton                        7\n",
       "Sheffield United               6\n",
       "Tottenham Hotspur              5\n",
       "Manchester United              5\n",
       "AFC Bournemouth                5\n",
       "Chelsea                        5\n",
       "Newcastle United               4\n",
       "Brighton and Hove Albion       4\n",
       "Southampton                    4\n",
       "West Ham United                4\n",
       "Norwich City                   3\n",
       "Aston Villa                    3\n",
       "Wolverhampton Wanderers        3\n",
       "Watford                        1"
      ]
     },
     "execution_count": 197,
     "metadata": {},
     "output_type": "execute_result"
    }
   ],
   "source": [
    "table.sort_values(\"points\", ascending=False)"
   ]
  },
  {
   "cell_type": "code",
   "execution_count": null,
   "metadata": {},
   "outputs": [],
   "source": []
  }
 ],
 "metadata": {
  "colab": {
   "name": "03 Assignment 3.ipynb",
   "provenance": []
  },
  "kernelspec": {
   "display_name": "Python 3 (ipykernel)",
   "language": "python",
   "name": "python3"
  },
  "language_info": {
   "codemirror_mode": {
    "name": "ipython",
    "version": 3
   },
   "file_extension": ".py",
   "mimetype": "text/x-python",
   "name": "python",
   "nbconvert_exporter": "python",
   "pygments_lexer": "ipython3",
   "version": "3.9.7"
  }
 },
 "nbformat": 4,
 "nbformat_minor": 1
}
